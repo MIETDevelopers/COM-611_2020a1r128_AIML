{
 "cells": [
  {
   "cell_type": "code",
   "execution_count": 1,
   "id": "4367e0b4",
   "metadata": {},
   "outputs": [
    {
     "name": "stdout",
     "output_type": "stream",
     "text": [
      "Requirement already satisfied: opencv-python in c:\\users\\pc\\anaconda3\\lib\\site-packages (4.6.0.66)\n",
      "Requirement already satisfied: numpy>=1.17.3 in c:\\users\\pc\\anaconda3\\lib\\site-packages (from opencv-python) (1.21.5)\n",
      "Note: you may need to restart the kernel to use updated packages.\n"
     ]
    }
   ],
   "source": [
    "pip install opencv-python"
   ]
  },
  {
   "cell_type": "code",
   "execution_count": 2,
   "id": "2bb15fb0",
   "metadata": {},
   "outputs": [],
   "source": [
    "import cv2"
   ]
  },
  {
   "cell_type": "code",
   "execution_count": 3,
   "id": "d038ed38",
   "metadata": {},
   "outputs": [],
   "source": [
    "import numpy as np"
   ]
  },
  {
   "cell_type": "code",
   "execution_count": null,
   "id": "eb2f0e0e",
   "metadata": {},
   "outputs": [],
   "source": [
    "# Creating a black image with 3 channels\n",
    "# RGB and unsigned int datatype\n",
    "img = np.zeros((400, 400, 3), dtype = \"uint8\")\n",
    "cv2.imshow('dark', img)\n",
    "  \n",
    "# Allows us to see image\n",
    "# until closed forcefully\n",
    "cv2.waitKey(0)\n",
    "cv2.destroyAllWindows()"
   ]
  },
  {
   "cell_type": "code",
   "execution_count": null,
   "id": "47877136",
   "metadata": {},
   "outputs": [],
   "source": [
    "# Python3 program to draw line\n",
    "# shape on solid image\n",
    "import numpy as np\n",
    "import cv2\n",
    "  \n",
    "# Creating a black image with 3 channels\n",
    "# RGB and unsigned int datatype\n",
    "img = np.zeros((400, 400, 3), dtype = \"uint8\")\n",
    "  \n",
    "# Creating line\n",
    "cv2.line(img, (20, 160), (100, 160), (0, 0, 255), 10)\n",
    "  \n",
    "cv2.imshow('dark', img)\n",
    "  \n",
    "# Allows us to see image\n",
    "# until closed forcefully\n",
    "cv2.waitKey(0)\n",
    "cv2.destroyAllWindows()"
   ]
  },
  {
   "cell_type": "code",
   "execution_count": null,
   "id": "9de739ee",
   "metadata": {},
   "outputs": [],
   "source": [
    "# Python3 program to draw rectangle\n",
    "# shape on solid image\n",
    "import numpy as np\n",
    "import cv2\n",
    "  \n",
    "# Creating a black image with 3\n",
    "# channels RGB and unsigned int datatype\n",
    "img = np.zeros((400, 400, 3), dtype = \"uint8\")\n",
    "  \n",
    "# Creating rectangle\n",
    "cv2.rectangle(img, (30, 30), (300, 200), (0, 255, 0), 5)\n",
    "  \n",
    "cv2.imshow('dark', img)\n",
    "  \n",
    "# Allows us to see image\n",
    "# until closed forcefully\n",
    "cv2.waitKey(0)\n",
    "cv2.destroyAllWindows()"
   ]
  },
  {
   "cell_type": "code",
   "execution_count": null,
   "id": "5deb8b8a",
   "metadata": {},
   "outputs": [],
   "source": [
    "#Python3 program to draw circle\n",
    "# shape on solid image\n",
    "import numpy as np\n",
    "import cv2\n",
    "  \n",
    "# Creating a black image with 3\n",
    "# channels RGB and unsigned int datatype\n",
    "img = np.zeros((400, 400, 3), dtype = \"uint8\")\n",
    "  \n",
    "# Creating circle\n",
    "cv2.circle(img, (200, 200), 80, (255, 0, 0), 3)\n",
    "  \n",
    "cv2.imshow('dark', img)\n",
    "  \n",
    "# Allows us to see image\n",
    "# until closed forcefully\n",
    "cv2.waitKey(0)\n",
    "cv2.destroyAllWindows()"
   ]
  },
  {
   "cell_type": "code",
   "execution_count": null,
   "id": "5c8608e4",
   "metadata": {},
   "outputs": [],
   "source": [
    "# Python3 program to write \n",
    "# text on solid image\n",
    "import numpy as np\n",
    "import cv2\n",
    "  \n",
    "# Creating a black image with 3\n",
    "# channels RGB and unsigned int datatype\n",
    "img = np.zeros((400, 400, 3), dtype = \"uint8\")\n",
    "  \n",
    "# writing text\n",
    "font = cv2.FONT_HERSHEY_SIMPLEX\n",
    "cv2.putText(img, 'Hello', (50, 50),\n",
    "            font, 0.8, (0, 255, 0), 2, cv2.LINE_AA)\n",
    "  \n",
    "cv2.imshow('dark', img)\n",
    "  \n",
    "# Allows us to see image\n",
    "# until closed forcefully\n",
    "cv2.waitKey(0)\n",
    "cv2.destroyAllWindows()"
   ]
  }
 ],
 "metadata": {
  "kernelspec": {
   "display_name": "Python 3 (ipykernel)",
   "language": "python",
   "name": "python3"
  },
  "language_info": {
   "codemirror_mode": {
    "name": "ipython",
    "version": 3
   },
   "file_extension": ".py",
   "mimetype": "text/x-python",
   "name": "python",
   "nbconvert_exporter": "python",
   "pygments_lexer": "ipython3",
   "version": "3.9.12"
  }
 },
 "nbformat": 4,
 "nbformat_minor": 5
}
